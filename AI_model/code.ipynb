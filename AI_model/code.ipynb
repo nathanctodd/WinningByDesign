{
 "cells": [
  {
   "cell_type": "code",
   "execution_count": 118,
   "metadata": {},
   "outputs": [],
   "source": [
    "from sentence_transformers import SentenceTransformer\n",
    "from transformers import pipeline\n",
    "import faiss\n",
    "import numpy as np\n",
    "import re"
   ]
  },
  {
   "cell_type": "markdown",
   "metadata": {},
   "source": [
    "## Functions for loading the book and splitting by page"
   ]
  },
  {
   "cell_type": "code",
   "execution_count": 119,
   "metadata": {},
   "outputs": [],
   "source": [
    "\n",
    "def load_book(file_path):\n",
    "    with open(file_path, 'r') as f:\n",
    "        text = f.read()\n",
    "    return text\n",
    "\n",
    "def split_into_chapters(book):\n",
    "    chapters = re.split(r\"CHAPTER\", book)  # Split by chapters\n",
    "    chapters = [chap.strip() for chap in chapters if chap.strip()]\n",
    "    return chapters\n",
    "\n",
    "def split_into_pages(chapter):\n",
    "    pages = chapter.split('\\n\\n\\n')\n",
    "    new_pages = []\n",
    "    for page in pages:\n",
    "        splitted = page.split('\\n')\n",
    "        new_pages.append(splitted[0])\n",
    "    return pages\n",
    "\n",
    "def split_entire_book_into_pages(book):\n",
    "    chapters = split_into_chapters(book)[2:]\n",
    "    pages = []\n",
    "    page_num = 9\n",
    "    for chapter_number, chapter in enumerate(chapters):\n",
    "        chapter_pages = split_into_pages(chapter)\n",
    "        \n",
    "        for page_number, page_content in enumerate(chapter_pages):\n",
    "            # Create a dictionary for each page that includes chapter and page information\n",
    "            pages.append({\n",
    "                'chapter': chapter_number + 1,  # Chapter starts from 1 (adjusted from zero)\n",
    "                'page': page_num, # Page starts from 9 (adjusted from zero)\n",
    "                'content': page_content\n",
    "            })\n",
    "            page_num += 1\n",
    "\n",
    "    return pages, chapters\n",
    "    "
   ]
  },
  {
   "cell_type": "code",
   "execution_count": 120,
   "metadata": {},
   "outputs": [],
   "source": [
    "def clean_data(page_data):\n",
    "    \n",
    "    #Split the data on consecutive newlines (by page)\n",
    "    clean_content = page_data['content'].split('\\n\\n')\n",
    "    \n",
    "    #Account for starting a new chapter\n",
    "    if len(clean_content[0]) < 5:\n",
    "        clean_content = clean_content[2:]\n",
    "    else:\n",
    "        clean_content = clean_content[1:]\n",
    "        \n",
    "    #Remove any newlines and extra spaces and then rejoin the text\n",
    "    clean_content = \"\".join(clean_content).replace(\"\\n\", \"\").strip()  \n",
    "    clean_content = re.sub(r'\\s+', ' ', clean_content)\n",
    "    \n",
    "    # Capture sentence-ending punctuation\n",
    "    split_text = re.split(r'([.!?])', clean_content)\n",
    "    split_text = [split_text[i] + split_text[i+1] for i in range(0, len(split_text)-1, 2)]\n",
    "\n",
    "    return split_text\n"
   ]
  },
  {
   "cell_type": "markdown",
   "metadata": {},
   "source": [
    "## Generate Embeddings"
   ]
  },
  {
   "cell_type": "code",
   "execution_count": 121,
   "metadata": {},
   "outputs": [
    {
     "name": "stderr",
     "output_type": "stream",
     "text": [
      "/Users/nathanctodd/anaconda3/envs/DataScience/lib/python3.10/site-packages/transformers/tokenization_utils_base.py:1601: FutureWarning: `clean_up_tokenization_spaces` was not set. It will be set to `True` by default. This behavior will be depracted in transformers v4.45, and will be then set to `False` by default. For more details check this issue: https://github.com/huggingface/transformers/issues/31884\n",
      "  warnings.warn(\n"
     ]
    }
   ],
   "source": [
    "#Load the model\n",
    "model = SentenceTransformer('all-MiniLM-L6-v2')\n",
    "\n",
    "#Load the book and split it into pages\n",
    "book = load_book('smaller_problems_with_philosophy.txt')\n",
    "pages, chapters = split_entire_book_into_pages(book)\n",
    "page_data = pages[0]\n",
    "\n",
    "#Clean the data and put it into a list\n",
    "all_sentences = []\n",
    "for page in pages:\n",
    "    all_sentences += clean_data(page)\n",
    "\n",
    "# Generate embeddings for each segment (chapter or page)\n",
    "def generate_embeddings(texts):\n",
    "    return model.encode(texts)\n",
    "\n",
    "def create_faiss_index(embeddings):\n",
    "    dimension = embeddings.shape[1]\n",
    "    index = faiss.IndexFlatL2(dimension)\n",
    "    index.add(embeddings)\n",
    "    return index\n",
    "\n",
    "embeddings = model.encode(all_sentences)\n",
    "embeddings = np.array(embeddings, dtype=np.float32)\n",
    "index = faiss.IndexFlatL2(embeddings.shape[1])\n",
    "index.add(embeddings)"
   ]
  },
  {
   "cell_type": "code",
   "execution_count": 123,
   "metadata": {},
   "outputs": [
    {
     "name": "stderr",
     "output_type": "stream",
     "text": [
      "No model was supplied, defaulted to distilbert/distilbert-base-cased-distilled-squad and revision 626af31 (https://huggingface.co/distilbert/distilbert-base-cased-distilled-squad).\n",
      "Using a pipeline without specifying a model name and revision in production is not recommended.\n",
      "Hardware accelerator e.g. GPU is available in the environment, but no `device` argument is passed to the `Pipeline` object. Model will be on CPU.\n"
     ]
    },
    {
     "ename": "IndexError",
     "evalue": "list index out of range",
     "output_type": "error",
     "traceback": [
      "\u001b[0;31m---------------------------------------------------------------------------\u001b[0m",
      "\u001b[0;31mIndexError\u001b[0m                                Traceback (most recent call last)",
      "Cell \u001b[0;32mIn[123], line 28\u001b[0m\n\u001b[1;32m     25\u001b[0m     \u001b[38;5;28;01mreturn\u001b[39;00m relevant_pages\n\u001b[1;32m     27\u001b[0m query \u001b[38;5;241m=\u001b[39m \u001b[38;5;124m\"\u001b[39m\u001b[38;5;124mWhat is the main theme of the chapter?\u001b[39m\u001b[38;5;124m\"\u001b[39m\n\u001b[0;32m---> 28\u001b[0m relevant_pages \u001b[38;5;241m=\u001b[39m \u001b[43msearch_pages\u001b[49m\u001b[43m(\u001b[49m\u001b[43mquery\u001b[49m\u001b[43m,\u001b[49m\u001b[43m \u001b[49m\u001b[43mpages\u001b[49m\u001b[43m,\u001b[49m\u001b[43m \u001b[49m\u001b[43mindex\u001b[49m\u001b[43m,\u001b[49m\u001b[43m \u001b[49m\u001b[43mtop_k\u001b[49m\u001b[38;5;241;43m=\u001b[39;49m\u001b[38;5;241;43m3\u001b[39;49m\u001b[43m,\u001b[49m\u001b[43m \u001b[49m\u001b[43mchapter_number\u001b[49m\u001b[38;5;241;43m=\u001b[39;49m\u001b[38;5;241;43m1\u001b[39;49m\u001b[43m,\u001b[49m\u001b[43m \u001b[49m\u001b[43mpage_range\u001b[49m\u001b[38;5;241;43m=\u001b[39;49m\u001b[43m[\u001b[49m\u001b[38;5;241;43m19\u001b[39;49m\u001b[43m,\u001b[49m\u001b[43m \u001b[49m\u001b[38;5;241;43m20\u001b[39;49m\u001b[43m]\u001b[49m\u001b[43m)\u001b[49m\n\u001b[1;32m     29\u001b[0m context \u001b[38;5;241m=\u001b[39m \u001b[38;5;124m\"\u001b[39m\u001b[38;5;124m \u001b[39m\u001b[38;5;124m\"\u001b[39m\u001b[38;5;241m.\u001b[39mjoin(relevant_pages)\n\u001b[1;32m     30\u001b[0m answer \u001b[38;5;241m=\u001b[39m answer_question(context, query)\n",
      "Cell \u001b[0;32mIn[123], line 24\u001b[0m, in \u001b[0;36msearch_pages\u001b[0;34m(query, page_contents, index, top_k, chapter_number, page_range)\u001b[0m\n\u001b[1;32m     21\u001b[0m distances, indices \u001b[38;5;241m=\u001b[39m index\u001b[38;5;241m.\u001b[39msearch(query_embedding, top_k)\n\u001b[1;32m     23\u001b[0m \u001b[38;5;66;03m# Get the relevant content based on the indices returned from the search\u001b[39;00m\n\u001b[0;32m---> 24\u001b[0m relevant_pages \u001b[38;5;241m=\u001b[39m [filtered_texts[idx] \u001b[38;5;28;01mfor\u001b[39;00m idx \u001b[38;5;129;01min\u001b[39;00m indices[\u001b[38;5;241m0\u001b[39m]]\n\u001b[1;32m     25\u001b[0m \u001b[38;5;28;01mreturn\u001b[39;00m relevant_pages\n",
      "Cell \u001b[0;32mIn[123], line 24\u001b[0m, in \u001b[0;36m<listcomp>\u001b[0;34m(.0)\u001b[0m\n\u001b[1;32m     21\u001b[0m distances, indices \u001b[38;5;241m=\u001b[39m index\u001b[38;5;241m.\u001b[39msearch(query_embedding, top_k)\n\u001b[1;32m     23\u001b[0m \u001b[38;5;66;03m# Get the relevant content based on the indices returned from the search\u001b[39;00m\n\u001b[0;32m---> 24\u001b[0m relevant_pages \u001b[38;5;241m=\u001b[39m [\u001b[43mfiltered_texts\u001b[49m\u001b[43m[\u001b[49m\u001b[43midx\u001b[49m\u001b[43m]\u001b[49m \u001b[38;5;28;01mfor\u001b[39;00m idx \u001b[38;5;129;01min\u001b[39;00m indices[\u001b[38;5;241m0\u001b[39m]]\n\u001b[1;32m     25\u001b[0m \u001b[38;5;28;01mreturn\u001b[39;00m relevant_pages\n",
      "\u001b[0;31mIndexError\u001b[0m: list index out of range"
     ]
    }
   ],
   "source": [
    "qa_pipeline = pipeline(\"question-answering\")\n",
    "\n",
    "def answer_question(context, question):\n",
    "    return qa_pipeline(question=question, context=context)\n",
    "\n",
    "def search_pages(query, page_contents, index, top_k=3, chapter_number=None, page_range=None):\n",
    "    # Filter pages by chapter or page range if specified\n",
    "    if chapter_number:\n",
    "        filtered_pages = [page for page in page_contents if page['chapter'] == chapter_number]\n",
    "    elif page_range:\n",
    "        start_page, end_page = page_range\n",
    "        filtered_pages = [page for page in page_contents if start_page <= page['page'] <= end_page]\n",
    "    else:\n",
    "        filtered_pages = page_contents  # No filter, return all pages\n",
    "    \n",
    "    # Extract content from filtered pages\n",
    "    filtered_texts = [page['content'] for page in filtered_pages]\n",
    "\n",
    "    # Encode query and search for the most relevant pages\n",
    "    query_embedding = model.encode([query]).astype(np.float32)\n",
    "    distances, indices = index.search(query_embedding, top_k)\n",
    "    \n",
    "    # Get the relevant content based on the indices returned from the search\n",
    "    relevant_pages = [filtered_texts[idx] for idx in indices[0]]\n",
    "    return relevant_pages\n",
    "\n",
    "query = \"What is the main theme of the chapter?\"\n",
    "relevant_pages = search_pages(query, pages, index, top_k=3, chapter_number=1, page_range=[19, 20])\n",
    "context = \" \".join(relevant_pages)\n",
    "answer = answer_question(context, query)\n",
    "print(\"Answer: \", answer['answer'])\n",
    "print(\"Context: \", context)\n"
   ]
  }
 ],
 "metadata": {
  "kernelspec": {
   "display_name": "DataScience",
   "language": "python",
   "name": "python3"
  },
  "language_info": {
   "codemirror_mode": {
    "name": "ipython",
    "version": 3
   },
   "file_extension": ".py",
   "mimetype": "text/x-python",
   "name": "python",
   "nbconvert_exporter": "python",
   "pygments_lexer": "ipython3",
   "version": "3.10.8"
  }
 },
 "nbformat": 4,
 "nbformat_minor": 2
}
